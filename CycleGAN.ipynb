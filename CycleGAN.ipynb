{
  "nbformat": 4,
  "nbformat_minor": 0,
  "metadata": {
    "accelerator": "GPU",
    "colab": {
      "name": "CycleGAN",
      "provenance": [],
      "collapsed_sections": [],
      "toc_visible": true,
      "include_colab_link": true
    },
    "kernelspec": {
      "display_name": "Python 3",
      "name": "python3"
    }
  },
  "cells": [
    {
      "cell_type": "markdown",
      "metadata": {
        "id": "view-in-github",
        "colab_type": "text"
      },
      "source": [
        "<a href=\"https://colab.research.google.com/github/mahtabnik-polito/cyclegan/blob/main/CycleGAN.ipynb\" target=\"_parent\"><img src=\"https://colab.research.google.com/assets/colab-badge.svg\" alt=\"Open In Colab\"/></a>"
      ]
    },
    {
      "cell_type": "markdown",
      "metadata": {
        "id": "5VIGyIus8Vr7"
      },
      "source": [
        "Take a look at the [repository](https://github.com/junyanz/pytorch-CycleGAN-and-pix2pix) for more information"
      ]
    },
    {
      "cell_type": "markdown",
      "metadata": {
        "id": "K-ojoJ1KRZjN"
      },
      "source": [
        "# Mounting Google Drive"
      ]
    },
    {
      "cell_type": "code",
      "metadata": {
        "colab": {
          "base_uri": "https://localhost:8080/"
        },
        "id": "zklK417iHpSc",
        "outputId": "c289b534-6d8c-4bf2-d41c-98b4bb592b52"
      },
      "source": [
        "from google.colab import drive\n",
        "drive.mount('/content/drive')"
      ],
      "execution_count": null,
      "outputs": [
        {
          "output_type": "stream",
          "text": [
            "Mounted at /content/drive\n"
          ],
          "name": "stdout"
        }
      ]
    },
    {
      "cell_type": "markdown",
      "metadata": {
        "id": "7wNjDKdQy35h"
      },
      "source": [
        "# Install"
      ]
    },
    {
      "cell_type": "code",
      "metadata": {
        "colab": {
          "base_uri": "https://localhost:8080/"
        },
        "id": "TRm-USlsHgEV",
        "outputId": "1b21eb49-55e0-4ac3-8a50-5b54f89fefd2"
      },
      "source": [
        "!git clone https://github.com/junyanz/pytorch-CycleGAN-and-pix2pix"
      ],
      "execution_count": null,
      "outputs": [
        {
          "output_type": "stream",
          "text": [
            "Cloning into 'pytorch-CycleGAN-and-pix2pix'...\n",
            "remote: Enumerating objects: 2337, done.\u001b[K\n",
            "remote: Total 2337 (delta 0), reused 0 (delta 0), pack-reused 2337\u001b[K\n",
            "Receiving objects: 100% (2337/2337), 8.09 MiB | 28.19 MiB/s, done.\n",
            "Resolving deltas: 100% (1499/1499), done.\n"
          ],
          "name": "stdout"
        }
      ]
    },
    {
      "cell_type": "code",
      "metadata": {
        "id": "XKeCUyIkNqaa"
      },
      "source": [
        "%cp -av /content/pytorch-CycleGAN-and-pix2pix  /content/drive/MyDrive/"
      ],
      "execution_count": null,
      "outputs": []
    },
    {
      "cell_type": "code",
      "metadata": {
        "id": "Pt3igws3eiVp"
      },
      "source": [
        "import os\n",
        "os.chdir('/content/drive/MyDrive/pytorch-CycleGAN-and-pix2pix/')"
      ],
      "execution_count": null,
      "outputs": []
    },
    {
      "cell_type": "code",
      "metadata": {
        "id": "z1EySlOXwwoa"
      },
      "source": [
        "!pip install -r requirements.txt"
      ],
      "execution_count": null,
      "outputs": []
    },
    {
      "cell_type": "markdown",
      "metadata": {
        "id": "-zS10doRPNcj"
      },
      "source": [
        "copy of the data in my drive"
      ]
    },
    {
      "cell_type": "code",
      "metadata": {
        "id": "-uolOQrQO8yu"
      },
      "source": [
        "%cp -av /content/drive/MyDrive/VOCtrainval_06-Nov-2007/VOCdevkit/VOC2007/trainA/ /content/drive/MyDrive/pytorch-CycleGAN-and-pix2pix/datasets/DT/"
      ],
      "execution_count": null,
      "outputs": []
    },
    {
      "cell_type": "code",
      "metadata": {
        "id": "VVBWCFL_477T"
      },
      "source": [
        "%cp -av /content/drive/MyDrive/VOCtrainval_06-Nov-2007/VOCdevkit/VOC2007/JPEGImages /content/pytorch-CycleGAN-and-pix2pix/datasets/trainA"
      ],
      "execution_count": null,
      "outputs": []
    },
    {
      "cell_type": "code",
      "metadata": {
        "id": "IXOmGsNmJe0S"
      },
      "source": [
        "%cp -av /content/drive/MyDrive/VOCtrainval_11-May-2012/VOCdevkit/VOC2012/JPEGImages  /content/pytorch-CycleGAN-and-pix2pix/datasets/trainA"
      ],
      "execution_count": null,
      "outputs": []
    },
    {
      "cell_type": "code",
      "metadata": {
        "id": "cty1Ymedxl3H"
      },
      "source": [
        "%cp -av /content/drive/MyDrive/clipart/clipart/JPEGImages /content/pytorch-CycleGAN-and-pix2pix/datasets/trainB"
      ],
      "execution_count": null,
      "outputs": []
    },
    {
      "cell_type": "markdown",
      "metadata": {
        "id": "uy7WYyHMP1PB"
      },
      "source": [
        "# Training\n",
        "the photos of VOC dataset were put inside the trainA folder (source domain)\n",
        "the photos of the Clipart1K were put inside the trainB folder (target domain)\n",
        "for the beginning we do not use the command --continue_train , this command is useful to continue training from the last saved model"
      ]
    },
    {
      "cell_type": "code",
      "metadata": {
        "id": "0sp7TCT2x9dB"
      },
      "source": [
        "!python train.py --dataroot ./datasets/DT --name image2clipart --model cycle_gan --lr 0.00001 --n_epochs 10 --n_epochs_decay 10 --save_epoch_freq 1  --epoch_count 1 --continue_train --save_latest_freq 5000 --save_by_iter"
      ],
      "execution_count": null,
      "outputs": []
    },
    {
      "cell_type": "markdown",
      "metadata": {
        "id": "uVYIeS9UQTfC"
      },
      "source": [
        "# Testing\n",
        "for this part in the first step we need to copy the specific cycleGan model to the latest_net_G\n",
        "in the training of CycleGan we produced 2 main models , one of them is for transfering images from source domain to target domain and the other one does the same approach in reverse."
      ]
    },
    {
      "cell_type": "code",
      "metadata": {
        "id": "KEftemeYH5S8"
      },
      "source": [
        "cp ./checkpoints/image2clipart/latest_net_G_A.pth ./checkpoints/image2clipart/latest_net_G.pth"
      ],
      "execution_count": null,
      "outputs": []
    },
    {
      "cell_type": "code",
      "metadata": {
        "id": "v0et3qeqRFmx"
      },
      "source": [
        "!python test.py --dataroot datasets/DT/JPEGImages/ --name image2clipart --model test --num_test 17176 --preprocess none --results_dir /content/drive/MyDrive/result"
      ],
      "execution_count": null,
      "outputs": []
    },
    {
      "cell_type": "markdown",
      "metadata": {
        "id": "YKbgP8ImRIqP"
      },
      "source": [
        "Source code for chaning the type of images (.png to .jpg)"
      ]
    },
    {
      "cell_type": "code",
      "metadata": {
        "id": "kHayImPNSML_"
      },
      "source": [
        "import os\n",
        "# Function to rename multiple files\n",
        "def main():\n",
        "   \n",
        "   substring='_fake'\n",
        "   i = 0\n",
        "   path='/results/image2clipart/test_latest/images/'\n",
        "   path2='/results/image2clipart/test_latest/fake2007/'\n",
        "   path3='/results/image2clipart/test_latest/fake2012/'\n",
        "   for filename in os.listdir(os.getcwd()+path):\n",
        "    #  print (filename)\n",
        "    if substring in filename:\n",
        "      print (filename)\n",
        "      my_dest =filename.replace('_fake.png' ,'.jpg')\n",
        "      my_source =os.getcwd()+path + filename\n",
        "      # if filename.startswith('2'):\n",
        "      #   my_dest =os.getcwd()+path3 + filename\n",
        "      # else:\n",
        "      my_dest =os.getcwd()+path2 + my_dest \n",
        "  # rename() function will\n",
        "  # rename all the files\n",
        "      os.rename(my_source, my_dest)\n",
        "      \n",
        "# Driver Code\n",
        "if __name__ == '__main__':\n",
        "   # Calling main() function\n",
        "   main()"
      ],
      "execution_count": null,
      "outputs": []
    }
  ]
}